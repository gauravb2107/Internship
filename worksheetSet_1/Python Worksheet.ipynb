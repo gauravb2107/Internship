{
 "cells": [
  {
   "cell_type": "markdown",
   "metadata": {},
   "source": [
    "1. Which of the following operators is used to calculate remainder in a division?\n",
    "        A) #     B) &\n",
    "        C) %     D) $\n",
    "        \n",
    "Ans : C) %        "
   ]
  },
  {
   "cell_type": "code",
   "execution_count": null,
   "metadata": {},
   "outputs": [],
   "source": []
  },
  {
   "cell_type": "markdown",
   "metadata": {},
   "source": [
    "2. In python 2//3 is equal to?\n",
    "\n",
    "       A) 0.666        B) 0\n",
    "       C) 1           D) 0.67\n",
    "       \n",
    "Ans: B) 0       "
   ]
  },
  {
   "cell_type": "code",
   "execution_count": null,
   "metadata": {},
   "outputs": [],
   "source": []
  },
  {
   "cell_type": "markdown",
   "metadata": {},
   "source": [
    "3. In python, 6<<2 is equal to?\n",
    "\n",
    "       A) 36   B) 10\n",
    "       C) 24   D) 45\n",
    "       \n",
    "Ans: C) 24       "
   ]
  },
  {
   "cell_type": "code",
   "execution_count": null,
   "metadata": {},
   "outputs": [],
   "source": []
  },
  {
   "cell_type": "markdown",
   "metadata": {},
   "source": [
    "4. In python, 6&2 will give which of the following as output?\n",
    "       A) 2      B) True\n",
    "       C) False  D) 0\n",
    "   \n",
    "Ans: A) 2   \n"
   ]
  },
  {
   "cell_type": "code",
   "execution_count": null,
   "metadata": {},
   "outputs": [],
   "source": []
  },
  {
   "cell_type": "markdown",
   "metadata": {},
   "source": [
    "5. In python, 6|2 will give which of the following as output?\n",
    "\n",
    "        A) 2    B) 4\n",
    "        C) 0    D) 6\n",
    "        \n",
    "Ans: D) 6"
   ]
  },
  {
   "cell_type": "code",
   "execution_count": null,
   "metadata": {},
   "outputs": [],
   "source": []
  },
  {
   "cell_type": "markdown",
   "metadata": {},
   "source": [
    "6. What does the finally keyword denotes in python?\n",
    "\n",
    "    A) It is used to mark the end of the code\n",
    "    \n",
    "    B) It encloses the lines of code which will be executed if any error occurs while executing the lines of code in \n",
    "       the try block.\n",
    "       \n",
    "    C) the finally block will be executed no matter if the try block raises an error or not.\n",
    "    \n",
    "    D) None of the above\n",
    "\n",
    "Ans: C)the finally block will be executed no matter if the try block raises an error or not."
   ]
  },
  {
   "cell_type": "code",
   "execution_count": null,
   "metadata": {},
   "outputs": [],
   "source": []
  },
  {
   "cell_type": "markdown",
   "metadata": {},
   "source": [
    "7. What does raise keyword is used for in python?\n",
    "\n",
    "    A) It is used to raise an exception.\n",
    "    \n",
    "    B) It is used to define lambda function\n",
    "    \n",
    "    C) it's not a keyword in python.\n",
    "    \n",
    "    D) None of the above\n",
    "    \n",
    "Ans: A) It is used to raise an exception"
   ]
  },
  {
   "cell_type": "code",
   "execution_count": null,
   "metadata": {},
   "outputs": [],
   "source": []
  },
  {
   "cell_type": "markdown",
   "metadata": {},
   "source": [
    "8. Which of the following is a common use case of yield keyword in python?\n",
    "\n",
    "    A) in defining an iterator\n",
    "\n",
    "    B) while defining a lambda function\n",
    "\n",
    "    C) in defining a generator \n",
    "\n",
    "    D) in for loop\n",
    "    \n",
    "Ans: C) in defining a generator     "
   ]
  },
  {
   "cell_type": "code",
   "execution_count": null,
   "metadata": {},
   "outputs": [],
   "source": []
  },
  {
   "cell_type": "markdown",
   "metadata": {},
   "source": [
    "9. Which of the following are the valid variable names?\n",
    "\n",
    "    A) _abc \n",
    "    \n",
    "    B) 1abc\n",
    "    \n",
    "    C) abc2 \n",
    "    \n",
    "    D) None of the above\n",
    "    \n",
    "Ans: A)_abc & C)abc2\n",
    "    "
   ]
  },
  {
   "cell_type": "code",
   "execution_count": null,
   "metadata": {},
   "outputs": [],
   "source": []
  },
  {
   "cell_type": "markdown",
   "metadata": {},
   "source": [
    "10. Which of the following are the keywords in python?\n",
    "\n",
    "        A) yield     B) raise\n",
    "        C) look-in   D) all of the above\n",
    "        \n",
    "Ans: A) yield & B) raise"
   ]
  },
  {
   "cell_type": "code",
   "execution_count": null,
   "metadata": {},
   "outputs": [],
   "source": []
  },
  {
   "cell_type": "code",
   "execution_count": 5,
   "metadata": {},
   "outputs": [
    {
     "name": "stdout",
     "output_type": "stream",
     "text": [
      "Enter the number :7\n",
      "Factorial of 7  is 5040\n"
     ]
    }
   ],
   "source": [
    "#  11.Write a python program to find the factorial of a number.\n",
    "\n",
    "n = int(input(\"Enter the number :\"))\n",
    "fact=1\n",
    "\n",
    "if n<0:\n",
    "    print(\" Please enter the number greater then 0\")\n",
    "else:\n",
    "    for i in range(1,n+1):\n",
    "        fact = fact*i\n",
    "    print(\"Factorial of\",n,\" is\",fact)    "
   ]
  },
  {
   "cell_type": "code",
   "execution_count": null,
   "metadata": {},
   "outputs": [],
   "source": []
  },
  {
   "cell_type": "code",
   "execution_count": 7,
   "metadata": {},
   "outputs": [
    {
     "name": "stdout",
     "output_type": "stream",
     "text": [
      "Enter the Number :3\n",
      "Given number  3  is prime\n"
     ]
    }
   ],
   "source": [
    "# 12. Write a python program to find whether a number is prime or composite.\n",
    "\n",
    "no=int(input(\"Enter the Number :\"))\n",
    "temp=0\n",
    "\n",
    "if no>1:\n",
    "    for i in range(2,no):\n",
    "        if (no%i)==0:\n",
    "            temp=1\n",
    "            break\n",
    "            \n",
    "if temp==1:\n",
    "    print(\"Given number \",no,\" is composite\")\n",
    "    \n",
    "else:\n",
    "    print(\"Given number \",no,\" is prime\")"
   ]
  },
  {
   "cell_type": "code",
   "execution_count": null,
   "metadata": {},
   "outputs": [],
   "source": []
  },
  {
   "cell_type": "code",
   "execution_count": 10,
   "metadata": {},
   "outputs": [
    {
     "name": "stdout",
     "output_type": "stream",
     "text": [
      "Enter the String :asdfdsa\n",
      "Given string is palimdrome\n"
     ]
    }
   ],
   "source": [
    "# 13. Write a python program to check whether a given string is palindrome or not.\n",
    "\n",
    "string = input(\"Enter the String :\")\n",
    "\n",
    "string= string.casefold()  #to make it suitable for caseless comparison\n",
    "\n",
    "rev_string = reversed(string)\n",
    "\n",
    "if list(string)==list(rev_string):\n",
    "    print(\"Given string is palimdrome\")\n",
    "    \n",
    "else:\n",
    "    print(\"Given string is not palindrome\")\n"
   ]
  },
  {
   "cell_type": "code",
   "execution_count": null,
   "metadata": {},
   "outputs": [],
   "source": []
  },
  {
   "cell_type": "code",
   "execution_count": 11,
   "metadata": {},
   "outputs": [
    {
     "name": "stdout",
     "output_type": "stream",
     "text": [
      "Hypotenuse = 5.0\n",
      "Adjacent = 4.0\n",
      "Opposite = 3.0\n",
      "All sides are given!\n"
     ]
    }
   ],
   "source": [
    "# 14. Write a Python program to get the third side of right-angled triangle from two given sides\n",
    "\n",
    "def triangle(opposite_side,adjacent_side,hypotenuse):\n",
    "        if opposite_side == str(\"x\"):\n",
    "            return (\"Opposite = \" + str(((hypotenuse**2) - (adjacent_side**2))**0.5))\n",
    "        elif adjacent_side == str(\"x\"):\n",
    "            return (\"Adjacent = \" + str(((hypotenuse**2) - (opposite_side**2))**0.5))\n",
    "        elif hypotenuse == str(\"x\"):\n",
    "            return (\"Hypotenuse = \" + str(((opposite_side**2) + (adjacent_side**2))**0.5))\n",
    "        else:\n",
    "            return \"All sides are given!\"\n",
    "    \n",
    "print(triangle(3,4,'x'))\n",
    "print(triangle(3,'x',5))\n",
    "print(triangle('x',4,5))\n",
    "print(triangle(3,4,5))"
   ]
  },
  {
   "cell_type": "code",
   "execution_count": null,
   "metadata": {},
   "outputs": [],
   "source": []
  },
  {
   "cell_type": "code",
   "execution_count": 18,
   "metadata": {},
   "outputs": [
    {
     "name": "stdout",
     "output_type": "stream",
     "text": [
      "Enter the string :aabbccddeeffgghhii\n",
      "Frequency of each characters in 'aabbccddeeffgghhii' is :\n",
      " Counter({'a': 2, 'b': 2, 'c': 2, 'd': 2, 'e': 2, 'f': 2, 'g': 2, 'h': 2, 'i': 2})\n"
     ]
    }
   ],
   "source": [
    "# 15. Write a python program to print the frequency of each of the characters present in a given string\n",
    "\n",
    "\n",
    "from collections import Counter\n",
    "\n",
    "string1 = input(\"Enter the string :\")\n",
    "\n",
    "freq = Counter(string1)\n",
    "\n",
    "\n",
    "print (\"Frequency of each characters in '{}' is :\\n {}\".format(string1, str(freq)))\n"
   ]
  },
  {
   "cell_type": "code",
   "execution_count": null,
   "metadata": {},
   "outputs": [],
   "source": []
  }
 ],
 "metadata": {
  "kernelspec": {
   "display_name": "Python 3",
   "language": "python",
   "name": "python3"
  },
  "language_info": {
   "codemirror_mode": {
    "name": "ipython",
    "version": 3
   },
   "file_extension": ".py",
   "mimetype": "text/x-python",
   "name": "python",
   "nbconvert_exporter": "python",
   "pygments_lexer": "ipython3",
   "version": "3.8.5"
  }
 },
 "nbformat": 4,
 "nbformat_minor": 4
}
