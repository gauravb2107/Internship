{
 "cells": [
  {
   "cell_type": "markdown",
   "metadata": {},
   "source": [
    "# Book Review"
   ]
  },
  {
   "cell_type": "code",
   "execution_count": 1,
   "metadata": {},
   "outputs": [],
   "source": [
    "import requests\n",
    "from bs4 import BeautifulSoup"
   ]
  },
  {
   "cell_type": "code",
   "execution_count": 2,
   "metadata": {},
   "outputs": [
    {
     "data": {
      "text/plain": [
       "<Response [200]>"
      ]
     },
     "execution_count": 2,
     "metadata": {},
     "output_type": "execute_result"
    }
   ],
   "source": [
    "bookpage = requests.get(\"https://bookpage.com/reviews\")\n",
    "bookpage"
   ]
  },
  {
   "cell_type": "code",
   "execution_count": 3,
   "metadata": {},
   "outputs": [],
   "source": [
    "soup = BeautifulSoup(bookpage.content,'html.parser')"
   ]
  },
  {
   "cell_type": "code",
   "execution_count": 5,
   "metadata": {},
   "outputs": [],
   "source": [
    "name = soup.find_all(['h4'], class_ = \"italic\")\n",
    "Book_name = []\n",
    "\n",
    "for i in name:\n",
    "    Book_name.append(i.text.replace(\"\\n\",\"\"))\n",
    "Book_name= [i.split('★ ')[-1]for i in Book_name ]"
   ]
  },
  {
   "cell_type": "code",
   "execution_count": 6,
   "metadata": {},
   "outputs": [
    {
     "data": {
      "text/plain": [
       "['A Calling for Charlie Barnes',\n",
       " \"Playing the Cards You're Dealt\",\n",
       " \"Please Don't Sit on My Bed in Your Outside Clothes\",\n",
       " 'Horseman',\n",
       " 'Cloud Cuckoo Land',\n",
       " 'Bluebird',\n",
       " 'The Wish',\n",
       " 'From the Tops of the Trees',\n",
       " 'Vespertine',\n",
       " 'The Afrominimalist’s Guide to Living With Less']"
      ]
     },
     "execution_count": 6,
     "metadata": {},
     "output_type": "execute_result"
    }
   ],
   "source": [
    "Book_name"
   ]
  },
  {
   "cell_type": "code",
   "execution_count": 8,
   "metadata": {},
   "outputs": [
    {
     "data": {
      "text/plain": [
       "['Joshua Ferris',\n",
       " 'Varian Johnson',\n",
       " 'Phoebe Robinson',\n",
       " 'Christina Henry',\n",
       " 'Anthony Doerr',\n",
       " 'Sharon Cameron',\n",
       " 'Nicholas Sparks',\n",
       " 'Kao Kalia Yang, Rachel Wada',\n",
       " 'Margaret Rogerson',\n",
       " 'Christine Platt, Cast']"
      ]
     },
     "execution_count": 8,
     "metadata": {},
     "output_type": "execute_result"
    }
   ],
   "source": [
    "auth_name = soup.find_all(['p'], class_ = \"sans bold\")\n",
    "author_name = []\n",
    "\n",
    "for i in auth_name:\n",
    "    author_name.append(i.text.replace(\"\\n\",\"\"))\n",
    "author_name"
   ]
  },
  {
   "cell_type": "code",
   "execution_count": 9,
   "metadata": {},
   "outputs": [
    {
     "data": {
      "text/plain": [
       "['Fiction / Family Drama',\n",
       " \"Children's / Middle Grade\",\n",
       " 'Nonfiction / Essays / Humor',\n",
       " 'Science Fiction & Fantasy / Fantasy / Historical Fantasy',\n",
       " 'Fiction / Literary Fiction',\n",
       " 'YA / YA Fiction',\n",
       " 'Fiction / Popular Fiction',\n",
       " \"Children's / Picture Book\",\n",
       " 'YA / YA Fiction',\n",
       " 'Audio / Nonfiction / Lifestyles']"
      ]
     },
     "execution_count": 9,
     "metadata": {},
     "output_type": "execute_result"
    }
   ],
   "source": [
    "genre = soup.find_all(['p'], class_ = \"genre-links hidden-phone\")\n",
    "Genre = []\n",
    "\n",
    "for i in genre:\n",
    "    Genre.append(i.text.replace(\"\\n\",\"\"))\n",
    "Genre"
   ]
  },
  {
   "cell_type": "code",
   "execution_count": 11,
   "metadata": {},
   "outputs": [
    {
     "data": {
      "text/plain": [
       "['Joshua Ferris’ control of his narrative is impeccable, but that doesn’t mean readers shouldn’t be prepared for frequent wicked curveballs.',\n",
       " 'It’s day one of fifth grade, and Anthony “Ant” Joplin is playing it cool.',\n",
       " 'Not only are Phoebe Robinson’s essays super funny, they’re also enlightening and thought-provoking, dotted with hits of poetry, anger and revelation.',\n",
       " 'Christina Henry’s Horseman is an atmospheric and haunting reimagining of Washington Irving’s “The Legend of Sleepy Hollow,” perfect for both fans of classic horror and those new to the tale of the Headless Horseman.',\n",
       " 'Sorrow and violence play large roles in the latest novel from Anthony Doerr, but so does tenderness.',\n",
       " 'In Bluebird, author Sharon Cameron (The Light in Hidden Places) dives deep into the dark, little-recognized period immediately following WWII, when the U.S. raced to secure German technology, including Nazi expertise, equipment and strategy, both for its personal use and to keep it out of Soviet...',\n",
       " 'Heuristic and dazzling, Nicholas Sparks’ novel convinces its reader to believe, in spite of everything, in love.',\n",
       " 'With realism and a strong thread of empowerment, author Kao Kalia Yang shares a story based on events she experienced as a child living at Thailand’s Ban Vinai Refugee Camp in From the Tops of the Trees.',\n",
       " 'Vespertine blends darkness, thrills and satisfying characterization for an engrossing fantasy tale.',\n",
       " 'Afrominimalist Christine Platt’s calm, careful narration of her journey toward living with less is both relatable and reassuring.']"
      ]
     },
     "execution_count": 11,
     "metadata": {},
     "output_type": "execute_result"
    }
   ],
   "source": [
    "rew = soup.find_all(['p'], class_ = \"excerpt\")\n",
    "review = []\n",
    "\n",
    "for i in rew:\n",
    "    review.append(i.text.replace(\"\\n\",\"\"))\n",
    "review"
   ]
  },
  {
   "cell_type": "code",
   "execution_count": 12,
   "metadata": {},
   "outputs": [
    {
     "data": {
      "text/html": [
       "<div>\n",
       "<style scoped>\n",
       "    .dataframe tbody tr th:only-of-type {\n",
       "        vertical-align: middle;\n",
       "    }\n",
       "\n",
       "    .dataframe tbody tr th {\n",
       "        vertical-align: top;\n",
       "    }\n",
       "\n",
       "    .dataframe thead th {\n",
       "        text-align: right;\n",
       "    }\n",
       "</style>\n",
       "<table border=\"1\" class=\"dataframe\">\n",
       "  <thead>\n",
       "    <tr style=\"text-align: right;\">\n",
       "      <th></th>\n",
       "      <th>Book_name</th>\n",
       "      <th>author_name</th>\n",
       "      <th>Genre</th>\n",
       "      <th>Short_review</th>\n",
       "    </tr>\n",
       "  </thead>\n",
       "  <tbody>\n",
       "    <tr>\n",
       "      <th>0</th>\n",
       "      <td>A Calling for Charlie Barnes</td>\n",
       "      <td>Joshua Ferris</td>\n",
       "      <td>Fiction / Family Drama</td>\n",
       "      <td>Joshua Ferris’ control of his narrative is imp...</td>\n",
       "    </tr>\n",
       "    <tr>\n",
       "      <th>1</th>\n",
       "      <td>Playing the Cards You're Dealt</td>\n",
       "      <td>Varian Johnson</td>\n",
       "      <td>Children's / Middle Grade</td>\n",
       "      <td>It’s day one of fifth grade, and Anthony “Ant”...</td>\n",
       "    </tr>\n",
       "    <tr>\n",
       "      <th>2</th>\n",
       "      <td>Please Don't Sit on My Bed in Your Outside Clo...</td>\n",
       "      <td>Phoebe Robinson</td>\n",
       "      <td>Nonfiction / Essays / Humor</td>\n",
       "      <td>Not only are Phoebe Robinson’s essays super fu...</td>\n",
       "    </tr>\n",
       "    <tr>\n",
       "      <th>3</th>\n",
       "      <td>Horseman</td>\n",
       "      <td>Christina Henry</td>\n",
       "      <td>Science Fiction &amp; Fantasy / Fantasy / Historic...</td>\n",
       "      <td>Christina Henry’s Horseman is an atmospheric a...</td>\n",
       "    </tr>\n",
       "    <tr>\n",
       "      <th>4</th>\n",
       "      <td>Cloud Cuckoo Land</td>\n",
       "      <td>Anthony Doerr</td>\n",
       "      <td>Fiction / Literary Fiction</td>\n",
       "      <td>Sorrow and violence play large roles in the la...</td>\n",
       "    </tr>\n",
       "  </tbody>\n",
       "</table>\n",
       "</div>"
      ],
      "text/plain": [
       "                                           Book_name      author_name  \\\n",
       "0                       A Calling for Charlie Barnes    Joshua Ferris   \n",
       "1                     Playing the Cards You're Dealt   Varian Johnson   \n",
       "2  Please Don't Sit on My Bed in Your Outside Clo...  Phoebe Robinson   \n",
       "3                                           Horseman  Christina Henry   \n",
       "4                                  Cloud Cuckoo Land    Anthony Doerr   \n",
       "\n",
       "                                               Genre  \\\n",
       "0                             Fiction / Family Drama   \n",
       "1                          Children's / Middle Grade   \n",
       "2                        Nonfiction / Essays / Humor   \n",
       "3  Science Fiction & Fantasy / Fantasy / Historic...   \n",
       "4                         Fiction / Literary Fiction   \n",
       "\n",
       "                                        Short_review  \n",
       "0  Joshua Ferris’ control of his narrative is imp...  \n",
       "1  It’s day one of fifth grade, and Anthony “Ant”...  \n",
       "2  Not only are Phoebe Robinson’s essays super fu...  \n",
       "3  Christina Henry’s Horseman is an atmospheric a...  \n",
       "4  Sorrow and violence play large roles in the la...  "
      ]
     },
     "execution_count": 12,
     "metadata": {},
     "output_type": "execute_result"
    }
   ],
   "source": [
    "import pandas as pd\n",
    "\n",
    "BookPage = pd.DataFrame({\"Book_name\":Book_name[:5], \"author_name\": author_name[:5], \"Genre\":Genre[:5], \"Short_review\": review[:5]})\n",
    "BookPage"
   ]
  },
  {
   "cell_type": "code",
   "execution_count": null,
   "metadata": {},
   "outputs": [],
   "source": []
  }
 ],
 "metadata": {
  "kernelspec": {
   "display_name": "Python 3",
   "language": "python",
   "name": "python3"
  },
  "language_info": {
   "codemirror_mode": {
    "name": "ipython",
    "version": 3
   },
   "file_extension": ".py",
   "mimetype": "text/x-python",
   "name": "python",
   "nbconvert_exporter": "python",
   "pygments_lexer": "ipython3",
   "version": "3.8.5"
  }
 },
 "nbformat": 4,
 "nbformat_minor": 4
}
