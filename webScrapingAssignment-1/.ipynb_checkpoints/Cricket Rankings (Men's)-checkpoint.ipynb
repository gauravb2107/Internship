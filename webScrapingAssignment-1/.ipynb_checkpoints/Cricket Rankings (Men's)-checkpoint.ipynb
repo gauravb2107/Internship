{
 "cells": [
  {
   "cell_type": "markdown",
   "metadata": {},
   "source": [
    "# Cricket Rankings"
   ]
  },
  {
   "cell_type": "code",
   "execution_count": 1,
   "metadata": {},
   "outputs": [],
   "source": [
    "import requests\n",
    "from bs4 import BeautifulSoup"
   ]
  },
  {
   "cell_type": "code",
   "execution_count": 2,
   "metadata": {},
   "outputs": [
    {
     "data": {
      "text/plain": [
       "<Response [200]>"
      ]
     },
     "execution_count": 2,
     "metadata": {},
     "output_type": "execute_result"
    }
   ],
   "source": [
    "ICC = requests.get(\"https://www.icc-cricket.com/rankings/mens/team-rankings/odi\")\n",
    "ICC"
   ]
  },
  {
   "cell_type": "code",
   "execution_count": 3,
   "metadata": {},
   "outputs": [],
   "source": [
    "soup = BeautifulSoup(ICC.content,'html.parser')"
   ]
  },
  {
   "cell_type": "code",
   "execution_count": 4,
   "metadata": {},
   "outputs": [
    {
     "data": {
      "text/plain": [
       "['New Zealand',\n",
       " 'England',\n",
       " 'Australia',\n",
       " 'India',\n",
       " 'South Africa',\n",
       " 'Pakistan',\n",
       " 'Bangladesh',\n",
       " 'West Indies',\n",
       " 'Sri Lanka',\n",
       " 'Afghanistan']"
      ]
     },
     "execution_count": 4,
     "metadata": {},
     "output_type": "execute_result"
    }
   ],
   "source": [
    "team = soup.find_all(['span'], class_ = \"u-hide-phablet\")\n",
    "ODI_Team = []\n",
    "\n",
    "for i in team:\n",
    "    ODI_Team.append(i.text.replace(\"\\n\",\"\"))\n",
    "ODI_Team= ODI_Team[:10]\n",
    "ODI_Team"
   ]
  },
  {
   "cell_type": "code",
   "execution_count": 5,
   "metadata": {},
   "outputs": [
    {
     "data": {
      "text/plain": [
       "['Team', 'Matches', 'Points', 'Rating']"
      ]
     },
     "execution_count": 5,
     "metadata": {},
     "output_type": "execute_result"
    }
   ],
   "source": [
    "title = soup.find_all(['span'], class_ = \"u-hide-mobile\")\n",
    "Title = []\n",
    "\n",
    "for i in title:\n",
    "    Title.append(i.text.replace(\"\\n\",\"\"))\n",
    "\n",
    "Title"
   ]
  },
  {
   "cell_type": "code",
   "execution_count": 7,
   "metadata": {},
   "outputs": [
    {
     "data": {
      "text/plain": [
       "['17']"
      ]
     },
     "execution_count": 7,
     "metadata": {},
     "output_type": "execute_result"
    }
   ],
   "source": [
    "Mat = soup.find_all(['td'], class_ = \"rankings-block__banner--matches\")\n",
    "Matches= []\n",
    "for i in Mat:\n",
    "    Matches.append(i.text.replace(\"\\n\",\"\"))\n",
    "\n",
    "Matches"
   ]
  },
  {
   "cell_type": "code",
   "execution_count": 8,
   "metadata": {},
   "outputs": [
    {
     "data": {
      "text/plain": [
       "['2,054']"
      ]
     },
     "execution_count": 8,
     "metadata": {},
     "output_type": "execute_result"
    }
   ],
   "source": [
    "pts = soup.find_all(['td'], class_ = \"rankings-block__banner--points\")\n",
    "Points= []\n",
    "for i in pts:\n",
    "    Points.append(i.text.replace(\"\\n\",\"\"))\n",
    "\n",
    "Points"
   ]
  },
  {
   "cell_type": "code",
   "execution_count": 9,
   "metadata": {},
   "outputs": [
    {
     "data": {
      "text/plain": [
       "['121']"
      ]
     },
     "execution_count": 9,
     "metadata": {},
     "output_type": "execute_result"
    }
   ],
   "source": [
    "rtg = soup.find_all(['td'], class_ = \"rankings-block__banner--rating u-text-right\")\n",
    "Ratings= []\n",
    "for i in rtg:\n",
    "    Ratings.append(i.text.replace(\"\\n\",\"\"))\n",
    "Ratings= [i.split('                            ')[1]for i in Ratings ]   \n",
    "Ratings"
   ]
  },
  {
   "cell_type": "code",
   "execution_count": 10,
   "metadata": {},
   "outputs": [],
   "source": [
    "stat = soup.find_all(['td'], class_ = \"table-body__cell u-center-text\")\n",
    "Stats = []\n",
    "\n",
    "for i in stat:\n",
    "    Stats.append(i.text.replace(\"\\n\",\"\"))"
   ]
  },
  {
   "cell_type": "code",
   "execution_count": 12,
   "metadata": {},
   "outputs": [
    {
     "data": {
      "text/plain": [
       "['32',\n",
       " '3,793',\n",
       " '28',\n",
       " '3,244',\n",
       " '32',\n",
       " '3,624',\n",
       " '25',\n",
       " '2,459',\n",
       " '27',\n",
       " '2,524',\n",
       " '30',\n",
       " '2,740',\n",
       " '30',\n",
       " '2,523',\n",
       " '32',\n",
       " '2,657',\n",
       " '17',\n",
       " '1,054',\n",
       " '7',\n",
       " '336',\n",
       " '25',\n",
       " '1,145',\n",
       " '11',\n",
       " '435',\n",
       " '8',\n",
       " '308',\n",
       " '20',\n",
       " '764',\n",
       " '11',\n",
       " '330',\n",
       " '9',\n",
       " '190',\n",
       " '14',\n",
       " '232',\n",
       " '6',\n",
       " '97',\n",
       " '10',\n",
       " '0']"
      ]
     },
     "execution_count": 12,
     "metadata": {},
     "output_type": "execute_result"
    }
   ],
   "source": [
    "Stats"
   ]
  },
  {
   "cell_type": "code",
   "execution_count": 13,
   "metadata": {},
   "outputs": [],
   "source": [
    "for i in range(0,len(Stats)):\n",
    "    if i == 0 or  i/2 == i//2:\n",
    "        Matches.append(Stats[i])    \n",
    "    else:\n",
    "        Points.append(Stats[i])\n",
    "Points = Points[:10]\n",
    "Matches= Matches[:10]"
   ]
  },
  {
   "cell_type": "code",
   "execution_count": 15,
   "metadata": {},
   "outputs": [],
   "source": [
    "rat =soup.find_all(['td'], class_ = \"table-body__cell u-text-right rating\")\n",
    "\n",
    "for i in rat:\n",
    "    Ratings.append(i.text.replace(\"\\n\",\"\"))\n",
    "Ratings= Ratings[:10]"
   ]
  },
  {
   "cell_type": "code",
   "execution_count": 16,
   "metadata": {},
   "outputs": [
    {
     "data": {
      "text/html": [
       "<div>\n",
       "<style scoped>\n",
       "    .dataframe tbody tr th:only-of-type {\n",
       "        vertical-align: middle;\n",
       "    }\n",
       "\n",
       "    .dataframe tbody tr th {\n",
       "        vertical-align: top;\n",
       "    }\n",
       "\n",
       "    .dataframe thead th {\n",
       "        text-align: right;\n",
       "    }\n",
       "</style>\n",
       "<table border=\"1\" class=\"dataframe\">\n",
       "  <thead>\n",
       "    <tr style=\"text-align: right;\">\n",
       "      <th></th>\n",
       "      <th>Team</th>\n",
       "      <th>Matches</th>\n",
       "      <th>Points</th>\n",
       "      <th>Rating</th>\n",
       "    </tr>\n",
       "  </thead>\n",
       "  <tbody>\n",
       "    <tr>\n",
       "      <th>0</th>\n",
       "      <td>New Zealand</td>\n",
       "      <td>17</td>\n",
       "      <td>2,054</td>\n",
       "      <td>121</td>\n",
       "    </tr>\n",
       "    <tr>\n",
       "      <th>1</th>\n",
       "      <td>England</td>\n",
       "      <td>32</td>\n",
       "      <td>3,793</td>\n",
       "      <td>119</td>\n",
       "    </tr>\n",
       "    <tr>\n",
       "      <th>2</th>\n",
       "      <td>Australia</td>\n",
       "      <td>28</td>\n",
       "      <td>3,244</td>\n",
       "      <td>116</td>\n",
       "    </tr>\n",
       "    <tr>\n",
       "      <th>3</th>\n",
       "      <td>India</td>\n",
       "      <td>32</td>\n",
       "      <td>3,624</td>\n",
       "      <td>113</td>\n",
       "    </tr>\n",
       "    <tr>\n",
       "      <th>4</th>\n",
       "      <td>South Africa</td>\n",
       "      <td>25</td>\n",
       "      <td>2,459</td>\n",
       "      <td>98</td>\n",
       "    </tr>\n",
       "    <tr>\n",
       "      <th>5</th>\n",
       "      <td>Pakistan</td>\n",
       "      <td>27</td>\n",
       "      <td>2,524</td>\n",
       "      <td>93</td>\n",
       "    </tr>\n",
       "    <tr>\n",
       "      <th>6</th>\n",
       "      <td>Bangladesh</td>\n",
       "      <td>30</td>\n",
       "      <td>2,740</td>\n",
       "      <td>91</td>\n",
       "    </tr>\n",
       "    <tr>\n",
       "      <th>7</th>\n",
       "      <td>West Indies</td>\n",
       "      <td>30</td>\n",
       "      <td>2,523</td>\n",
       "      <td>84</td>\n",
       "    </tr>\n",
       "    <tr>\n",
       "      <th>8</th>\n",
       "      <td>Sri Lanka</td>\n",
       "      <td>32</td>\n",
       "      <td>2,657</td>\n",
       "      <td>83</td>\n",
       "    </tr>\n",
       "    <tr>\n",
       "      <th>9</th>\n",
       "      <td>Afghanistan</td>\n",
       "      <td>17</td>\n",
       "      <td>1,054</td>\n",
       "      <td>62</td>\n",
       "    </tr>\n",
       "  </tbody>\n",
       "</table>\n",
       "</div>"
      ],
      "text/plain": [
       "           Team Matches Points Rating\n",
       "0   New Zealand      17  2,054    121\n",
       "1       England      32  3,793    119\n",
       "2     Australia      28  3,244    116\n",
       "3         India      32  3,624    113\n",
       "4  South Africa      25  2,459     98\n",
       "5      Pakistan      27  2,524     93\n",
       "6    Bangladesh      30  2,740     91\n",
       "7   West Indies      30  2,523     84\n",
       "8     Sri Lanka      32  2,657     83\n",
       "9   Afghanistan      17  1,054     62"
      ]
     },
     "execution_count": 16,
     "metadata": {},
     "output_type": "execute_result"
    }
   ],
   "source": [
    "import pandas as pd\n",
    "\n",
    "ODI_TOP_10 = pd.DataFrame({Title[0]:ODI_Team, Title[1]:Matches, Title[2]: Points, Title[3]: Ratings})\n",
    "ODI_TOP_10"
   ]
  },
  {
   "cell_type": "code",
   "execution_count": 17,
   "metadata": {},
   "outputs": [
    {
     "data": {
      "text/plain": [
       "<Response [200]>"
      ]
     },
     "execution_count": 17,
     "metadata": {},
     "output_type": "execute_result"
    }
   ],
   "source": [
    "ICC_bat = requests.get(\"https://www.icc-cricket.com/rankings/mens/player-rankings/odi\")\n",
    "ICC_bat"
   ]
  },
  {
   "cell_type": "code",
   "execution_count": 18,
   "metadata": {},
   "outputs": [],
   "source": [
    "bat_soup = BeautifulSoup(ICC_bat.content,'html.parser')"
   ]
  },
  {
   "cell_type": "code",
   "execution_count": 19,
   "metadata": {},
   "outputs": [
    {
     "data": {
      "text/plain": [
       "['Babar Azam',\n",
       " 'Trent Boult',\n",
       " 'Shakib Al Hasan',\n",
       " 'Babar Azam',\n",
       " 'Trent Boult',\n",
       " 'Shakib Al Hasan']"
      ]
     },
     "execution_count": 19,
     "metadata": {},
     "output_type": "execute_result"
    }
   ],
   "source": [
    "nam = bat_soup.find_all(['div'], class_ = \"rankings-block__banner--name\")\n",
    "banner_name = []\n",
    "\n",
    "for i in nam:\n",
    "    banner_name.append(i.text.replace(\"\\n\",\"\"))\n",
    "banner_name"
   ]
  },
  {
   "cell_type": "code",
   "execution_count": 20,
   "metadata": {},
   "outputs": [
    {
     "data": {
      "text/plain": [
       "['PAK873', 'NZ737', 'BAN416', 'PAK873', 'NZ737', 'BAN416']"
      ]
     },
     "execution_count": 20,
     "metadata": {},
     "output_type": "execute_result"
    }
   ],
   "source": [
    "nat = bat_soup.find_all(['div'], class_ = \"rankings-block__banner--nationality\")\n",
    "natt = []\n",
    "\n",
    "for i in nat:\n",
    "    natt.append(i.text.replace(\"\\n\",\"\"))\n",
    "natt"
   ]
  },
  {
   "cell_type": "code",
   "execution_count": 21,
   "metadata": {},
   "outputs": [
    {
     "data": {
      "text/plain": [
       "['873', '737', '416', '873', '737', '416']"
      ]
     },
     "execution_count": 21,
     "metadata": {},
     "output_type": "execute_result"
    }
   ],
   "source": [
    "rat = bat_soup.find_all(['div'], class_ = \"rankings-block__banner--rating\")\n",
    "ratt = []\n",
    "\n",
    "for i in rat:\n",
    "    ratt.append(i.text.replace(\"\\n\",\"\"))\n",
    "ratt"
   ]
  },
  {
   "cell_type": "code",
   "execution_count": 22,
   "metadata": {},
   "outputs": [],
   "source": [
    "Batsman_name=[banner_name[0]]\n",
    "Batsman_nation = [natt[0]]\n",
    "Batsman_Rattings = [ratt[0]]\n",
    "Bowler_name = [banner_name[1]]\n",
    "Bowler_nation = [natt[1]]\n",
    "Bowler_Rattings = [ratt[1]]"
   ]
  },
  {
   "cell_type": "code",
   "execution_count": 23,
   "metadata": {},
   "outputs": [
    {
     "data": {
      "text/plain": [
       "['Virat Kohli',\n",
       " 'Rohit Sharma',\n",
       " 'Ross Taylor',\n",
       " 'Aaron Finch',\n",
       " 'Jonny Bairstow',\n",
       " 'David Warner',\n",
       " 'Shai Hope',\n",
       " 'Kane Williamson',\n",
       " 'Quinton de Kock',\n",
       " 'Josh Hazlewood',\n",
       " 'Mujeeb Ur Rahman',\n",
       " 'Chris Woakes',\n",
       " 'Mehedi Hasan',\n",
       " 'Matt Henry',\n",
       " 'Jasprit Bumrah',\n",
       " 'Mitchell Starc',\n",
       " 'Shakib Al Hasan',\n",
       " 'Kagiso Rabada']"
      ]
     },
     "execution_count": 23,
     "metadata": {},
     "output_type": "execute_result"
    }
   ],
   "source": [
    "Nam = bat_soup.find_all(['td'], class_ = \"table-body__cell name\")\n",
    "table_names = []\n",
    "for i in Nam:\n",
    "    table_names.append(i.text.replace(\"\\n\",\"\"))\n",
    "table_names = table_names[:18]\n",
    "table_names"
   ]
  },
  {
   "cell_type": "code",
   "execution_count": 24,
   "metadata": {},
   "outputs": [
    {
     "data": {
      "text/plain": [
       "['IND',\n",
       " 'IND',\n",
       " 'NZ',\n",
       " 'AUS',\n",
       " 'ENG',\n",
       " 'AUS',\n",
       " 'WI',\n",
       " 'NZ',\n",
       " 'SA',\n",
       " 'AUS',\n",
       " 'AFG',\n",
       " 'ENG',\n",
       " 'BAN',\n",
       " 'NZ',\n",
       " 'IND',\n",
       " 'AUS',\n",
       " 'BAN',\n",
       " 'SA']"
      ]
     },
     "execution_count": 24,
     "metadata": {},
     "output_type": "execute_result"
    }
   ],
   "source": [
    "nat1 = bat_soup.find_all(['span'], class_ = \"table-body__logo-text\")\n",
    "Nat1 = []\n",
    "for i in nat1:\n",
    "    Nat1.append(i.text.replace(\"\\n\",\"\"))\n",
    "Nat1 = Nat1[:18]\n",
    "Nat1"
   ]
  },
  {
   "cell_type": "code",
   "execution_count": 25,
   "metadata": {},
   "outputs": [
    {
     "data": {
      "text/plain": [
       "['844',\n",
       " '813',\n",
       " '801',\n",
       " '779',\n",
       " '775',\n",
       " '762',\n",
       " '758',\n",
       " '754',\n",
       " '747',\n",
       " '709',\n",
       " '708',\n",
       " '700',\n",
       " '692',\n",
       " '691',\n",
       " '679',\n",
       " '652',\n",
       " '650',\n",
       " '646']"
      ]
     },
     "execution_count": 25,
     "metadata": {},
     "output_type": "execute_result"
    }
   ],
   "source": [
    "rat1 = bat_soup.find_all(['td'], class_ = \"table-body__cell u-text-right rating\")\n",
    "Rat1 = []\n",
    "for i in rat1:\n",
    "    Rat1.append(i.text.replace(\"\\n\",\"\"))\n",
    "Rat1 = Rat1[:18]\n",
    "Rat1"
   ]
  },
  {
   "cell_type": "code",
   "execution_count": 26,
   "metadata": {},
   "outputs": [],
   "source": [
    "for i in table_names[0:9]:\n",
    "    Batsman_name.append(i)\n",
    "for i in Nat1[0:9]:\n",
    "    Batsman_nation.append(i)\n",
    "for i in Rat1[0:9]:\n",
    "    Batsman_Rattings.append(i)    \n",
    "for i in table_names[9:18]:\n",
    "    Bowler_name.append(i)\n",
    "for i in Nat1[9:18]:\n",
    "    Bowler_nation.append(i)\n",
    "for i in Rat1[9:18]:\n",
    "    Bowler_Rattings.append(i)"
   ]
  },
  {
   "cell_type": "code",
   "execution_count": 27,
   "metadata": {},
   "outputs": [],
   "source": [
    "ODI_TOP_10_Batsman = pd.DataFrame({\"Batsman_name\":Batsman_name, \"Batsman_nation\":Batsman_nation, \"Batsman_Rattings\": Batsman_Rattings})\n",
    "ODI_TOP_10_Bowler = pd.DataFrame({\"Bowler_name\":Bowler_name, \"Bowler_nation\":Bowler_nation, \"Bowler_Rattings\": Bowler_Rattings})"
   ]
  },
  {
   "cell_type": "code",
   "execution_count": 28,
   "metadata": {},
   "outputs": [
    {
     "data": {
      "text/html": [
       "<div>\n",
       "<style scoped>\n",
       "    .dataframe tbody tr th:only-of-type {\n",
       "        vertical-align: middle;\n",
       "    }\n",
       "\n",
       "    .dataframe tbody tr th {\n",
       "        vertical-align: top;\n",
       "    }\n",
       "\n",
       "    .dataframe thead th {\n",
       "        text-align: right;\n",
       "    }\n",
       "</style>\n",
       "<table border=\"1\" class=\"dataframe\">\n",
       "  <thead>\n",
       "    <tr style=\"text-align: right;\">\n",
       "      <th></th>\n",
       "      <th>Batsman_name</th>\n",
       "      <th>Batsman_nation</th>\n",
       "      <th>Batsman_Rattings</th>\n",
       "    </tr>\n",
       "  </thead>\n",
       "  <tbody>\n",
       "    <tr>\n",
       "      <th>0</th>\n",
       "      <td>Babar Azam</td>\n",
       "      <td>PAK873</td>\n",
       "      <td>873</td>\n",
       "    </tr>\n",
       "    <tr>\n",
       "      <th>1</th>\n",
       "      <td>Virat Kohli</td>\n",
       "      <td>IND</td>\n",
       "      <td>844</td>\n",
       "    </tr>\n",
       "    <tr>\n",
       "      <th>2</th>\n",
       "      <td>Rohit Sharma</td>\n",
       "      <td>IND</td>\n",
       "      <td>813</td>\n",
       "    </tr>\n",
       "    <tr>\n",
       "      <th>3</th>\n",
       "      <td>Ross Taylor</td>\n",
       "      <td>NZ</td>\n",
       "      <td>801</td>\n",
       "    </tr>\n",
       "    <tr>\n",
       "      <th>4</th>\n",
       "      <td>Aaron Finch</td>\n",
       "      <td>AUS</td>\n",
       "      <td>779</td>\n",
       "    </tr>\n",
       "    <tr>\n",
       "      <th>5</th>\n",
       "      <td>Jonny Bairstow</td>\n",
       "      <td>ENG</td>\n",
       "      <td>775</td>\n",
       "    </tr>\n",
       "    <tr>\n",
       "      <th>6</th>\n",
       "      <td>David Warner</td>\n",
       "      <td>AUS</td>\n",
       "      <td>762</td>\n",
       "    </tr>\n",
       "    <tr>\n",
       "      <th>7</th>\n",
       "      <td>Shai Hope</td>\n",
       "      <td>WI</td>\n",
       "      <td>758</td>\n",
       "    </tr>\n",
       "    <tr>\n",
       "      <th>8</th>\n",
       "      <td>Kane Williamson</td>\n",
       "      <td>NZ</td>\n",
       "      <td>754</td>\n",
       "    </tr>\n",
       "    <tr>\n",
       "      <th>9</th>\n",
       "      <td>Quinton de Kock</td>\n",
       "      <td>SA</td>\n",
       "      <td>747</td>\n",
       "    </tr>\n",
       "  </tbody>\n",
       "</table>\n",
       "</div>"
      ],
      "text/plain": [
       "      Batsman_name Batsman_nation Batsman_Rattings\n",
       "0       Babar Azam         PAK873              873\n",
       "1      Virat Kohli            IND              844\n",
       "2     Rohit Sharma            IND              813\n",
       "3      Ross Taylor             NZ              801\n",
       "4      Aaron Finch            AUS              779\n",
       "5   Jonny Bairstow            ENG              775\n",
       "6     David Warner            AUS              762\n",
       "7        Shai Hope             WI              758\n",
       "8  Kane Williamson             NZ              754\n",
       "9  Quinton de Kock             SA              747"
      ]
     },
     "execution_count": 28,
     "metadata": {},
     "output_type": "execute_result"
    }
   ],
   "source": [
    "ODI_TOP_10_Batsman"
   ]
  },
  {
   "cell_type": "code",
   "execution_count": 29,
   "metadata": {},
   "outputs": [
    {
     "data": {
      "text/html": [
       "<div>\n",
       "<style scoped>\n",
       "    .dataframe tbody tr th:only-of-type {\n",
       "        vertical-align: middle;\n",
       "    }\n",
       "\n",
       "    .dataframe tbody tr th {\n",
       "        vertical-align: top;\n",
       "    }\n",
       "\n",
       "    .dataframe thead th {\n",
       "        text-align: right;\n",
       "    }\n",
       "</style>\n",
       "<table border=\"1\" class=\"dataframe\">\n",
       "  <thead>\n",
       "    <tr style=\"text-align: right;\">\n",
       "      <th></th>\n",
       "      <th>Bowler_name</th>\n",
       "      <th>Bowler_nation</th>\n",
       "      <th>Bowler_Rattings</th>\n",
       "    </tr>\n",
       "  </thead>\n",
       "  <tbody>\n",
       "    <tr>\n",
       "      <th>0</th>\n",
       "      <td>Trent Boult</td>\n",
       "      <td>NZ737</td>\n",
       "      <td>737</td>\n",
       "    </tr>\n",
       "    <tr>\n",
       "      <th>1</th>\n",
       "      <td>Josh Hazlewood</td>\n",
       "      <td>AUS</td>\n",
       "      <td>709</td>\n",
       "    </tr>\n",
       "    <tr>\n",
       "      <th>2</th>\n",
       "      <td>Mujeeb Ur Rahman</td>\n",
       "      <td>AFG</td>\n",
       "      <td>708</td>\n",
       "    </tr>\n",
       "    <tr>\n",
       "      <th>3</th>\n",
       "      <td>Chris Woakes</td>\n",
       "      <td>ENG</td>\n",
       "      <td>700</td>\n",
       "    </tr>\n",
       "    <tr>\n",
       "      <th>4</th>\n",
       "      <td>Mehedi Hasan</td>\n",
       "      <td>BAN</td>\n",
       "      <td>692</td>\n",
       "    </tr>\n",
       "    <tr>\n",
       "      <th>5</th>\n",
       "      <td>Matt Henry</td>\n",
       "      <td>NZ</td>\n",
       "      <td>691</td>\n",
       "    </tr>\n",
       "    <tr>\n",
       "      <th>6</th>\n",
       "      <td>Jasprit Bumrah</td>\n",
       "      <td>IND</td>\n",
       "      <td>679</td>\n",
       "    </tr>\n",
       "    <tr>\n",
       "      <th>7</th>\n",
       "      <td>Mitchell Starc</td>\n",
       "      <td>AUS</td>\n",
       "      <td>652</td>\n",
       "    </tr>\n",
       "    <tr>\n",
       "      <th>8</th>\n",
       "      <td>Shakib Al Hasan</td>\n",
       "      <td>BAN</td>\n",
       "      <td>650</td>\n",
       "    </tr>\n",
       "    <tr>\n",
       "      <th>9</th>\n",
       "      <td>Kagiso Rabada</td>\n",
       "      <td>SA</td>\n",
       "      <td>646</td>\n",
       "    </tr>\n",
       "  </tbody>\n",
       "</table>\n",
       "</div>"
      ],
      "text/plain": [
       "        Bowler_name Bowler_nation Bowler_Rattings\n",
       "0       Trent Boult         NZ737             737\n",
       "1    Josh Hazlewood           AUS             709\n",
       "2  Mujeeb Ur Rahman           AFG             708\n",
       "3      Chris Woakes           ENG             700\n",
       "4      Mehedi Hasan           BAN             692\n",
       "5        Matt Henry            NZ             691\n",
       "6    Jasprit Bumrah           IND             679\n",
       "7    Mitchell Starc           AUS             652\n",
       "8   Shakib Al Hasan           BAN             650\n",
       "9     Kagiso Rabada            SA             646"
      ]
     },
     "execution_count": 29,
     "metadata": {},
     "output_type": "execute_result"
    }
   ],
   "source": [
    "ODI_TOP_10_Bowler"
   ]
  },
  {
   "cell_type": "code",
   "execution_count": null,
   "metadata": {},
   "outputs": [],
   "source": []
  }
 ],
 "metadata": {
  "kernelspec": {
   "display_name": "Python 3",
   "language": "python",
   "name": "python3"
  },
  "language_info": {
   "codemirror_mode": {
    "name": "ipython",
    "version": 3
   },
   "file_extension": ".py",
   "mimetype": "text/x-python",
   "name": "python",
   "nbconvert_exporter": "python",
   "pygments_lexer": "ipython3",
   "version": "3.8.5"
  }
 },
 "nbformat": 4,
 "nbformat_minor": 4
}
